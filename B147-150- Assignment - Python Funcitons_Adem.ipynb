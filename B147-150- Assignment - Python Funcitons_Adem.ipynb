{
 "cells": [
  {
   "cell_type": "markdown",
   "id": "386239ff",
   "metadata": {},
   "source": [
    "___\n",
    "\n",
    "<p style=\"text-align: center;\"><img src=\"https://techproeducation.com/wp-content/uploads/2022/01/Calisma-Yuzeyi-1-kopya-5-1-768x126.png\" class=\"img-fluid\" alt=\"TECHPRO\"></p>\n",
    "\n",
    "___"
   ]
  },
  {
   "cell_type": "markdown",
   "id": "aa93b12c",
   "metadata": {},
   "source": [
    "# Python Functions Assignment"
   ]
  },
  {
   "cell_type": "markdown",
   "id": "57c9c596",
   "metadata": {},
   "source": [
    "## 1. Write a Python function to find the maximum of three numbers."
   ]
  },
  {
   "cell_type": "code",
   "execution_count": 13,
   "id": "9655e704",
   "metadata": {},
   "outputs": [],
   "source": [
    "def max_3 (a,b,c):\n",
    "    max_3= max([int(a),int(b),int(c)])\n",
    "    return max_3\n"
   ]
  },
  {
   "cell_type": "code",
   "execution_count": 14,
   "id": "16d71302",
   "metadata": {},
   "outputs": [
    {
     "data": {
      "text/plain": [
       "36"
      ]
     },
     "execution_count": 14,
     "metadata": {},
     "output_type": "execute_result"
    }
   ],
   "source": [
    "max_3(5,36,8)"
   ]
  },
  {
   "cell_type": "markdown",
   "id": "d6d0667d",
   "metadata": {},
   "source": [
    "## 2. Write a Python function to sum all the numbers in a list.\n",
    "\n",
    "## Sample List : (8, 2, 3, 0, 7)\n",
    "\n",
    "## Expected Output : 20"
   ]
  },
  {
   "cell_type": "code",
   "execution_count": 18,
   "id": "28fb6939",
   "metadata": {},
   "outputs": [],
   "source": [
    "def sum_list(list_plus):\n",
    "    sumlist = 0\n",
    "    for i in list_plus:\n",
    "        sumlist += i\n",
    "\n",
    "    return sumlist"
   ]
  },
  {
   "cell_type": "code",
   "execution_count": 19,
   "id": "5ced642b",
   "metadata": {},
   "outputs": [
    {
     "data": {
      "text/plain": [
       "20"
      ]
     },
     "execution_count": 19,
     "metadata": {},
     "output_type": "execute_result"
    }
   ],
   "source": [
    "sum_list(list_plus = [8,2,3,0,7])"
   ]
  },
  {
   "cell_type": "markdown",
   "id": "8991e3fe",
   "metadata": {},
   "source": [
    "## 3. Write a Python function to multiply all the numbers in a list.\n",
    "## Sample List : (8, 2, 3, -1, 7)\n",
    "## Expected Output : -336\n"
   ]
  },
  {
   "cell_type": "code",
   "execution_count": 24,
   "id": "be2d4436",
   "metadata": {},
   "outputs": [],
   "source": [
    "def mult_list(list_tms):\n",
    "    tmslist = 1\n",
    "    for i in list_tms:\n",
    "        tmslist *= i\n",
    "\n",
    "    return tmslist"
   ]
  },
  {
   "cell_type": "code",
   "execution_count": 25,
   "id": "325e7de4",
   "metadata": {},
   "outputs": [
    {
     "data": {
      "text/plain": [
       "-336"
      ]
     },
     "execution_count": 25,
     "metadata": {},
     "output_type": "execute_result"
    }
   ],
   "source": [
    "mult_list(list_tms=[8, 2, 3, -1, 7])"
   ]
  },
  {
   "cell_type": "markdown",
   "id": "d0397d6a",
   "metadata": {},
   "source": [
    "## 4. Write a Python program to reverse a string.\n",
    "## Sample String : \"1234abcd\"\n",
    "## Expected Output : \"dcba4321\""
   ]
  },
  {
   "cell_type": "code",
   "execution_count": 24,
   "id": "e6a79379",
   "metadata": {},
   "outputs": [],
   "source": [
    "def reversed_list(str_list):\n",
    "    return str_list[::-1]\n",
    "\n",
    "# lambda str_list: str_list[::-1]"
   ]
  },
  {
   "cell_type": "code",
   "execution_count": 25,
   "id": "5838f24a",
   "metadata": {},
   "outputs": [
    {
     "data": {
      "text/plain": [
       "'dcba4321'"
      ]
     },
     "execution_count": 25,
     "metadata": {},
     "output_type": "execute_result"
    }
   ],
   "source": [
    "reversed_list(str_list=\"1234abcd\")"
   ]
  },
  {
   "cell_type": "markdown",
   "id": "c7a633ba",
   "metadata": {},
   "source": [
    "## 5. Write a Python function to calculate the factorial of a number (a non-negative integer). The function accepts the number as an argument."
   ]
  },
  {
   "cell_type": "code",
   "execution_count": 51,
   "id": "38c2ee74",
   "metadata": {},
   "outputs": [],
   "source": [
    "def factorial (x):\n",
    "    facto = 1\n",
    "    if x >= 1:    \n",
    "        while x != 1:\n",
    "            facto *= x\n",
    "            x -= 1\n",
    "        return facto\n",
    "    elif x == 0:\n",
    "        return facto    \n",
    "    else:\n",
    "        facto = \"Negative integers cannot be calculated!\"\n",
    "        return facto\n",
    "  "
   ]
  },
  {
   "cell_type": "code",
   "execution_count": 53,
   "id": "236d2530",
   "metadata": {},
   "outputs": [
    {
     "name": "stdout",
     "output_type": "stream",
     "text": [
      "120\n",
      "1\n",
      "1\n"
     ]
    },
    {
     "data": {
      "text/plain": [
       "'Negative integers cannot be calculated!'"
      ]
     },
     "execution_count": 53,
     "metadata": {},
     "output_type": "execute_result"
    }
   ],
   "source": [
    "print(factorial(5))\n",
    "print(factorial(1))\n",
    "print(factorial(0))\n",
    "factorial(-8)\n"
   ]
  },
  {
   "cell_type": "markdown",
   "id": "81f0c3d5",
   "metadata": {},
   "source": [
    "## 6. Write a Python function to check whether a number falls within a given range."
   ]
  },
  {
   "cell_type": "code",
   "execution_count": 48,
   "id": "bf393352",
   "metadata": {},
   "outputs": [],
   "source": [
    "def num_check(num,range_1,range_2):\n",
    "    if num in range(range_1,range_2 + 1):\n",
    "        result = print(f\"{num} is between {range_1} and {range_2}\")\n",
    "    else:\n",
    "        result = print(f\"{num} is NOT between {range_1} and {range_2}\")\n",
    "    return result"
   ]
  },
  {
   "cell_type": "code",
   "execution_count": 49,
   "id": "96812160",
   "metadata": {},
   "outputs": [
    {
     "name": "stdout",
     "output_type": "stream",
     "text": [
      "12 is NOT between 2 and 8\n",
      "6 is between 2 and 16\n"
     ]
    }
   ],
   "source": [
    "num_check(12,2,8)\n",
    "num_check(6,2,16)"
   ]
  },
  {
   "cell_type": "markdown",
   "id": "46d9792b",
   "metadata": {},
   "source": [
    "## 7. Write a Python function that accepts a string and counts the number of upper and lower case letters.\n",
    "## Sample String : 'The quick Brow Fox'\n",
    "## Expected Output :\n",
    "### No. of Upper case characters : 3\n",
    "### No. of Lower case Characters : 12"
   ]
  },
  {
   "cell_type": "code",
   "execution_count": 144,
   "id": "195a965b",
   "metadata": {},
   "outputs": [],
   "source": [
    "def upper_lower_counter(str): \n",
    "    \"\"\"counts the number of upper and lower case letters in a string\"\"\"\n",
    "    upper_counter = 0\n",
    "    lower_counter = 0 \n",
    "    for i in range(len(str)):         \n",
    "        if (ord(str[i]) >= 97 and ord(str[i]) <= 122):\n",
    "            lower_counter += 1\n",
    "        elif (ord(str[i]) >= 65 and ord(str[i]) <= 90):\n",
    "            upper_counter += 1\n",
    "    return print(f\"No. of Upper case characters: {upper_counter} \\nNo. of Lower case characters: {lower_counter}\")"
   ]
  },
  {
   "cell_type": "code",
   "execution_count": 145,
   "id": "b01bb9b5",
   "metadata": {},
   "outputs": [
    {
     "name": "stdout",
     "output_type": "stream",
     "text": [
      "No. of Upper case characters: 3 \n",
      "No. of Lower case characters: 12\n"
     ]
    }
   ],
   "source": [
    "upper_lower_counter(\"The quick Brow Fox\")"
   ]
  },
  {
   "cell_type": "code",
   "execution_count": 146,
   "id": "19c8525f",
   "metadata": {},
   "outputs": [
    {
     "name": "stdout",
     "output_type": "stream",
     "text": [
      "No. of Upper case characters: 14 \n",
      "No. of Lower case characters: 155\n"
     ]
    }
   ],
   "source": [
    "upper_lower_counter(\"\"\"## 7. Write a Python function that accepts a string and counts the number of upper and lower case letters.\n",
    "## Sample String : 'The quick Brow Fox'\n",
    "## Expected Output :\n",
    "### No. of Upper case characters: 3\n",
    "### No. of Lower case Characters: \"\"\")"
   ]
  },
  {
   "cell_type": "markdown",
   "id": "be714b42",
   "metadata": {},
   "source": [
    "## 8. Write a Python function that takes a list and returns a new list with distinct elements from the first list.\n",
    "### Sample List : [1,2,3,3,3,3,4,5]\n",
    "### Unique List : [1, 2, 3, 4, 5]"
   ]
  },
  {
   "cell_type": "code",
   "execution_count": 7,
   "id": "4f2a7f66",
   "metadata": {},
   "outputs": [],
   "source": [
    "def list_distict(sample_list):\n",
    "    \"\"\"takes a list and returns a new list with distinct elements\"\"\"\n",
    "    unique_list = []\n",
    "    for i in sample_list:\n",
    "        if i not in unique_list:\n",
    "            unique_list.append(i)\n",
    "        else:\n",
    "            continue\n",
    "    return unique_list"
   ]
  },
  {
   "cell_type": "code",
   "execution_count": 8,
   "id": "52c325d4",
   "metadata": {},
   "outputs": [
    {
     "data": {
      "text/plain": [
       "[1, 2, 3, 4, 5]"
      ]
     },
     "execution_count": 8,
     "metadata": {},
     "output_type": "execute_result"
    }
   ],
   "source": [
    "list_distict([1,2,3,3,3,3,4,5,2,1,3,2,5])"
   ]
  },
  {
   "cell_type": "markdown",
   "id": "b3400547",
   "metadata": {},
   "source": [
    "## 9. Write a Python function that takes a number as a parameter and checks whether the number is prime or not.\n",
    "### Note : A prime number (or a prime) is a natural number greater than 1 and that has no positive divisors other than 1 and itself."
   ]
  },
  {
   "cell_type": "code",
   "execution_count": 40,
   "id": "651c3b50",
   "metadata": {},
   "outputs": [],
   "source": [
    "def prime_num(n):\n",
    "    \"\"\"takes a number as a parameter and checks whether the number is prime or not.\"\"\"\n",
    "    divide = 0\n",
    "    for i in range(1,n + 1):\n",
    "        if n % i != 0:\n",
    "            continue\n",
    "        else:\n",
    "            divide += 1\n",
    "    if divide <=2:\n",
    "        print(f\"{n} is a prime number\")\n",
    "    else:\n",
    "        print(f\"{n} is NOT a prime number\")"
   ]
  },
  {
   "cell_type": "code",
   "execution_count": 42,
   "id": "1aef3873",
   "metadata": {},
   "outputs": [
    {
     "name": "stdout",
     "output_type": "stream",
     "text": [
      "32 is NOT a prime number\n",
      "11 is a prime number\n",
      "101 is a prime number\n"
     ]
    }
   ],
   "source": [
    "prime_num(32)\n",
    "prime_num(11)\n",
    "prime_num(101)"
   ]
  },
  {
   "cell_type": "markdown",
   "id": "9743a8c3",
   "metadata": {},
   "source": [
    "## 10. Write a Python program to print the even numbers from a given list.\n",
    "### Sample List : [1, 2, 3, 4, 5, 6, 7, 8, 9]\n",
    "### Expected Result : [2, 4, 6, 8]"
   ]
  },
  {
   "cell_type": "code",
   "execution_count": 2,
   "id": "039185d2",
   "metadata": {},
   "outputs": [],
   "source": [
    "def even_list (list):\n",
    "    \"\"\"returns even elemans from a given list\"\"\"\n",
    "    even_num = []\n",
    "    for i in list:\n",
    "        if i % 2 == 0:\n",
    "            even_num.append(i)\n",
    "    return even_num"
   ]
  },
  {
   "cell_type": "code",
   "execution_count": 3,
   "id": "8f64f1b7",
   "metadata": {},
   "outputs": [
    {
     "data": {
      "text/plain": [
       "[2, 4, 6, 8]"
      ]
     },
     "execution_count": 3,
     "metadata": {},
     "output_type": "execute_result"
    }
   ],
   "source": [
    "even_list([1, 2, 3, 4, 5, 6, 7, 8, 9])"
   ]
  },
  {
   "cell_type": "markdown",
   "id": "6c80fb99",
   "metadata": {},
   "source": [
    "## 11. Write a Python function to check whether a number is \"Perfect\" or not.\n",
    "### According to Wikipedia : In number theory, a perfect number is a positive integer that is equal to the sum of its proper positive divisors, that is, the sum of its positive divisors excluding the number itself (also known as its aliquot sum). Equivalently, a perfect number is a number that is half the sum of all of its positive divisors (including itself).\n",
    "### Example : The first perfect number is 6, because 1, 2, and 3 are its proper positive divisors, and 1 + 2 + 3 = 6. Equivalently, the number 6 is equal to half the sum of all its positive divisors: ( 1 + 2 + 3 + 6 ) / 2 = 6. The next perfect number is 28 = 1 + 2 + 4 + 7 + 14. This is followed by the perfect numbers 496 and 8128."
   ]
  },
  {
   "cell_type": "code",
   "execution_count": 8,
   "id": "39ffa501",
   "metadata": {},
   "outputs": [],
   "source": [
    "def perfect_num(n):\n",
    "    \"\"\"takes a number as a parameter and checks whether the number is perfect or not.\"\"\"\n",
    "    divisor_sum = 0\n",
    "    for i in range(1,n + 1):\n",
    "        if n % i == 0:\n",
    "            divisor_sum += i\n",
    "        else:\n",
    "            continue\n",
    "    if divisor_sum / 2 == n:\n",
    "        print(f\"{n} is a perfect number\")\n",
    "    else:\n",
    "        print(f\"{n} is NOT a perfect number\")"
   ]
  },
  {
   "cell_type": "code",
   "execution_count": 12,
   "id": "8e0f8961",
   "metadata": {},
   "outputs": [
    {
     "name": "stdout",
     "output_type": "stream",
     "text": [
      "100 is NOT a perfect number\n"
     ]
    }
   ],
   "source": [
    "perfect_num(100)"
   ]
  },
  {
   "cell_type": "markdown",
   "id": "795dc6b0",
   "metadata": {},
   "source": [
    "## 12. Write a Python function that checks whether a passed string is a palindrome or not.\n",
    "### Note: A palindrome is a word, phrase, or sequence that reads the same backward as forward, e.g., madam or nurses run."
   ]
  },
  {
   "cell_type": "code",
   "execution_count": 35,
   "id": "dd3ceb6f",
   "metadata": {},
   "outputs": [],
   "source": [
    "def palindrome (str):\n",
    "    \"\"\"check whether a string is a palindrome or not.\"\"\"\n",
    "    reverse_str = str[::-1]\n",
    "    if reverse_str == str:\n",
    "        print(f\"{str} is a palindrome\")\n",
    "    else:\n",
    "        print(f\"{str} is NOT a palindrome\")"
   ]
  },
  {
   "cell_type": "code",
   "execution_count": 36,
   "id": "cabad3b1",
   "metadata": {},
   "outputs": [
    {
     "name": "stdout",
     "output_type": "stream",
     "text": [
      "küçük is a palindrome\n",
      "küçük____dfr is NOT a palindrome\n"
     ]
    }
   ],
   "source": [
    "palindrome(\"küçük\")\n",
    "palindrome(\"küçük____dfr\")"
   ]
  },
  {
   "cell_type": "markdown",
   "id": "1e155158",
   "metadata": {},
   "source": [
    "## 13. Write a Python function that prints out the first n rows of Pascal's triangle.\n",
    "### Note : Pascal's triangle is an arithmetic and geometric figure first imagined by Blaise Pascal.\n",
    "### Sample Pascal's triangle :\n",
    "### Each number is the two numbers above it added together"
   ]
  },
  {
   "cell_type": "code",
   "execution_count": 2,
   "id": "709de46c",
   "metadata": {},
   "outputs": [],
   "source": [
    "\n",
    "def pascal_triangle(n):\n",
    "    import math\n",
    "    for i in range(n):\n",
    "        for j in range(n-i+1):\n",
    "            print(end=\" \")\n",
    "        for j in range(i+1):\n",
    "            print(math.factorial(i)//(math.factorial(j)*math.factorial(i-j)), end=\" \")\n",
    "        print()\n",
    "# Source: https://www.geeksforgeeks.org/python-program-to-print-pascals-triangle/"
   ]
  },
  {
   "cell_type": "code",
   "execution_count": 3,
   "id": "353ffc64",
   "metadata": {},
   "outputs": [
    {
     "name": "stdout",
     "output_type": "stream",
     "text": [
      "           1 \n",
      "          1 1 \n",
      "         1 2 1 \n",
      "        1 3 3 1 \n",
      "       1 4 6 4 1 \n",
      "      1 5 10 10 5 1 \n",
      "     1 6 15 20 15 6 1 \n",
      "    1 7 21 35 35 21 7 1 \n",
      "   1 8 28 56 70 56 28 8 1 \n",
      "  1 9 36 84 126 126 84 36 9 1 \n",
      "Source: https://www.geeksforgeeks.org/python-program-to-print-pascals-triangle/\n"
     ]
    }
   ],
   "source": [
    "pascal_triangle(10)"
   ]
  },
  {
   "cell_type": "markdown",
   "id": "b89febf6",
   "metadata": {},
   "source": [
    "## 14. Write a Python function to check whether a string is a pangram or not.\n",
    "### Note : Pangrams are words or sentences containing every letter of the alphabet at least once.\n",
    "### For example : \"The quick brown fox jumps over the lazy dog\""
   ]
  },
  {
   "cell_type": "code",
   "execution_count": 38,
   "id": "8d0e796a",
   "metadata": {},
   "outputs": [],
   "source": [
    "def pangram (str):\n",
    "    \"\"\"check whether a string is a pangram or not.\"\"\"\n",
    "    import string\n",
    "    ascii_lower_set = set(string.ascii_lowercase)\n",
    "    str_set = set(str.lower())\n",
    "    #ascii_lower_list = string.ascii_lowercase\n",
    "    \n",
    "    if str_set | ascii_lower_set == str_set:\n",
    "        print(f\"{str} is a pangram\")\n",
    "    else:\n",
    "        print(f\"{str} is NOT a pangram\")\n"
   ]
  },
  {
   "cell_type": "code",
   "execution_count": 39,
   "id": "32b6c801",
   "metadata": {},
   "outputs": [
    {
     "name": "stdout",
     "output_type": "stream",
     "text": [
      "The quick brown fox jumps over the lazy dog is a pangram\n",
      "The quick brown fox jumps over the lazy do is NOT a pangram\n",
      "The quick brown fox jumps over the lazy do is NOT a pangram\n"
     ]
    }
   ],
   "source": [
    "pangram(\"The quick brown fox jumps over the lazy dog\")\n",
    "pangram(\"The quick brown fox jumps over the lazy do\") # \"g\" is missing\n",
    "pangram(\"The quick brown fox jumps over the lazy do\") # \"T\" is missing"
   ]
  },
  {
   "cell_type": "markdown",
   "id": "d45e3b07",
   "metadata": {},
   "source": [
    "## 15. Write a Python program that accepts a hyphen-separated sequence of words as input and prints the words in a hyphen-separated sequence after sorting them alphabetically.\n",
    "### Sample Items : green-red-yellow-black-white\n",
    "### Expected Result : black-green-red-white-yellow"
   ]
  },
  {
   "cell_type": "code",
   "execution_count": 87,
   "id": "a48ac5dc",
   "metadata": {},
   "outputs": [],
   "source": [
    "def word_sorter(entry_list):\n",
    "    \"\"\"prints the words in a hyphen-separated sequence \n",
    "    after sorting them alphabetically.\"\"\"\n",
    "    hyphenless_list = entry_list.split(\"-\")\n",
    "    hyphenless_list.sort()\n",
    "    return \"-\".join(hyphenless_list)\n"
   ]
  },
  {
   "cell_type": "code",
   "execution_count": 88,
   "id": "ba5b487c",
   "metadata": {},
   "outputs": [
    {
     "data": {
      "text/plain": [
       "'black-green-red-white-yellow'"
      ]
     },
     "execution_count": 88,
     "metadata": {},
     "output_type": "execute_result"
    }
   ],
   "source": [
    "word_sorter(\"green-red-yellow-black-white\")"
   ]
  },
  {
   "cell_type": "markdown",
   "id": "12d7472a",
   "metadata": {},
   "source": [
    "## 16. Write a Python function to create and print a list where the values are the squares of numbers between 1 and 30 (both included)."
   ]
  },
  {
   "cell_type": "code",
   "execution_count": 5,
   "id": "76dfd6cd",
   "metadata": {},
   "outputs": [],
   "source": [
    "def square_values_list(x= 1,y=31):\n",
    "    \"\"\"creates and prints a list\n",
    "      where the values are the squares of numbers \n",
    "      between 1 and 30 (both included).\"\"\"\n",
    "    square_list = list(range(x,y))\n",
    "    square_values_list = []\n",
    "    for i in square_list:\n",
    "        square_values_list.append(i ** 2)\n",
    "    return (square_values_list)"
   ]
  },
  {
   "cell_type": "code",
   "execution_count": 7,
   "id": "210691a3",
   "metadata": {},
   "outputs": [
    {
     "data": {
      "text/plain": [
       "[1,\n",
       " 4,\n",
       " 9,\n",
       " 16,\n",
       " 25,\n",
       " 36,\n",
       " 49,\n",
       " 64,\n",
       " 81,\n",
       " 100,\n",
       " 121,\n",
       " 144,\n",
       " 169,\n",
       " 196,\n",
       " 225,\n",
       " 256,\n",
       " 289,\n",
       " 324,\n",
       " 361,\n",
       " 400,\n",
       " 441,\n",
       " 484,\n",
       " 529,\n",
       " 576,\n",
       " 625,\n",
       " 676,\n",
       " 729,\n",
       " 784,\n",
       " 841,\n",
       " 900]"
      ]
     },
     "execution_count": 7,
     "metadata": {},
     "output_type": "execute_result"
    }
   ],
   "source": [
    "square_values_list()"
   ]
  },
  {
   "cell_type": "markdown",
   "id": "5f116f5d",
   "metadata": {},
   "source": [
    "## 17. Write a Python program to create a chain of function decorators (bold, italic, underline etc.).\n"
   ]
  },
  {
   "cell_type": "code",
   "execution_count": 60,
   "id": "17ad2f2a",
   "metadata": {},
   "outputs": [
    {
     "name": "stdout",
     "output_type": "stream",
     "text": [
      "<b><i><u>hello world</u></i></b>\n"
     ]
    },
    {
     "data": {
      "text/plain": [
       "'Source:https://www.w3resource.com/python-exercises/python-functions-exercise-17.php'"
      ]
     },
     "execution_count": 60,
     "metadata": {},
     "output_type": "execute_result"
    }
   ],
   "source": [
    "def make_bold(fn):\n",
    "    def wrapped():\n",
    "        return \"<b>\" + fn() + \"</b>\"\n",
    "    return wrapped\n",
    "\n",
    "def make_italic(fn):\n",
    "    def wrapped():\n",
    "        return \"<i>\" + fn() + \"</i>\"\n",
    "    return wrapped\n",
    "\n",
    "def make_underline(fn):\n",
    "    def wrapped():\n",
    "        return \"<u>\" + fn() + \"</u>\"\n",
    "    return wrapped\n",
    "@make_bold\n",
    "@make_italic\n",
    "@make_underline\n",
    "def hello():\n",
    "    return \"hello world\"\n",
    "print(hello())\n",
    "\"\"\"Source:https://www.w3resource.com/python-exercises/python-functions-exercise-17.php\"\"\"\n"
   ]
  },
  {
   "cell_type": "code",
   "execution_count": 65,
   "id": "5e2516ad",
   "metadata": {},
   "outputs": [
    {
     "name": "stdout",
     "output_type": "stream",
     "text": [
      "islem 1.0015308856964111 sn sürdü\n",
      "37\n"
     ]
    }
   ],
   "source": [
    "# Practice\n",
    "\n",
    "import time\n",
    "def zaman_hesapla(fn):\n",
    "    def wrapper(*args,**kwargs):\n",
    "        baslangic = time.time()\n",
    "        sonuc = fn(*args,**kwargs)\n",
    "        bitis = time.time()\n",
    "        print(f\"islem {bitis - baslangic} sn sürdü\")\n",
    "        return sonuc\n",
    "    return wrapper\n",
    "\n",
    "@zaman_hesapla\n",
    "def kareleri_al(liste):\n",
    "    sonuc = []\n",
    "    for i in liste:\n",
    "        sonuc.append(i * i)\n",
    "    return sonuc\n",
    "\n",
    "@zaman_hesapla\n",
    "def kupleri_al(liste):\n",
    "    sonuc = []\n",
    "    for i in liste:\n",
    "        sonuc.append(i * 3)\n",
    "    return sonuc\n",
    "\n",
    "@zaman_hesapla\n",
    "def topla(*args):\n",
    "    time.sleep(1)\n",
    "    return sum(args)\n",
    "\n",
    "print(topla(5,32))\n",
    "\n",
    "# Source: https://www.youtube.com/watch?v=o41ClfJ0Woo"
   ]
  },
  {
   "attachments": {},
   "cell_type": "markdown",
   "id": "e44f734a",
   "metadata": {},
   "source": [
    "## 18. Write a Python program to execute a string containing Python code."
   ]
  },
  {
   "cell_type": "code",
   "execution_count": 59,
   "id": "c97a1239",
   "metadata": {},
   "outputs": [
    {
     "name": "stdout",
     "output_type": "stream",
     "text": [
      "ali-veli-kirk-dokuz-elliille-zukod-krik-ilev-ila is a generated palindrome\n"
     ]
    }
   ],
   "source": [
    "str_1 = \"ali-veli-kirk-dokuz-elli\"\n",
    "str_code = \"\"\" \n",
    "def reversed_list(str_list):\n",
    "    return str_list[::-1]\n",
    "print(f\"{str_1 + reversed_list(str_1)} is a generated palindrome\")\"\"\"       \n",
    "exec(str_code)\n",
    "\n"
   ]
  },
  {
   "cell_type": "markdown",
   "id": "323501dc",
   "metadata": {},
   "source": [
    "## 19. Write a Python program to access a function inside a function."
   ]
  },
  {
   "cell_type": "code",
   "execution_count": 71,
   "id": "aece0903",
   "metadata": {},
   "outputs": [],
   "source": [
    "def prime_num_range(a, b):\n",
    "    \"\"\"gives the list of prime numbers among in a range.\"\"\"\n",
    "    prime_num_list = []\n",
    "    for i in range(a, b + 1):\n",
    "        def is_prime(i):\n",
    "            divide = 0\n",
    "            for n in range(1,i + 1):\n",
    "                if i % n != 0:\n",
    "                    continue\n",
    "                else:\n",
    "                    divide += 1\n",
    "            if divide <= 2:\n",
    "                return True\n",
    "            #else:\n",
    "                #return False\n",
    "        if is_prime(i):\n",
    "            prime_num_list.append(i)\n",
    "    return prime_num_list"
   ]
  },
  {
   "cell_type": "code",
   "execution_count": 73,
   "id": "baab476e",
   "metadata": {},
   "outputs": [
    {
     "data": {
      "text/plain": [
       "[1, 2, 3, 5, 7, 11, 13, 17, 19, 23, 29]"
      ]
     },
     "execution_count": 73,
     "metadata": {},
     "output_type": "execute_result"
    }
   ],
   "source": [
    "prime_num_range(1,30)"
   ]
  },
  {
   "cell_type": "markdown",
   "id": "ad42d26f",
   "metadata": {},
   "source": [
    "## 20. Write a Python program to detect the number of local variables declared in a function.\n",
    "### Sample Output:\n",
    "### 3"
   ]
  },
  {
   "cell_type": "code",
   "execution_count": 66,
   "id": "d7fff293",
   "metadata": {},
   "outputs": [
    {
     "name": "stdout",
     "output_type": "stream",
     "text": [
      "5\n"
     ]
    }
   ],
   "source": [
    "def prime_num_range(a, b):\n",
    "    \"\"\"gives a list of prime numbers among in range.\"\"\"\n",
    "    prime_num_list = []\n",
    "    for i in range(a, b + 1):\n",
    "        def is_prime(i):\n",
    "            divide = 0\n",
    "            for n in range(1,i + 1):\n",
    "                if i % n != 0:\n",
    "                    continue\n",
    "                else:\n",
    "                    divide += 1\n",
    "            if divide <= 2:\n",
    "                return True\n",
    "            #else:\n",
    "                #return False\n",
    "        if is_prime(i):\n",
    "            prime_num_list.append(i)\n",
    "    return prime_num_list\n",
    "# to detect the number of local variables in function \"prime_num_range\"\n",
    "print(prime_num_range.__code__.co_nlocals)"
   ]
  },
  {
   "cell_type": "markdown",
   "id": "d9df7ef3",
   "metadata": {},
   "source": [
    "## 21. Write a Python program that invokes a function after a specified period of time.\n",
    "### Sample Output:\n",
    "### Square root after specific miliseconds:\n",
    "### 4.0\n",
    "### 10.0\n",
    "### 158.42979517754858 (edited) "
   ]
  },
  {
   "cell_type": "code",
   "execution_count": 87,
   "id": "09a2d448",
   "metadata": {},
   "outputs": [],
   "source": [
    "import time\n",
    "\n",
    "def prime_num_range(a, b):\n",
    "    \"\"\"gives the list of prime numbers among in a range.\"\"\"\n",
    "    prime_num_list = []\n",
    "    for i in range(a, b + 1):\n",
    "        def is_prime(i):\n",
    "            divide = 0\n",
    "            for n in range(1,i + 1):\n",
    "                if i % n != 0:\n",
    "                    continue\n",
    "                else:\n",
    "                    divide += 1\n",
    "            if divide <= 2:\n",
    "                return True\n",
    "            #else:\n",
    "                #return False\n",
    "        if is_prime(i):\n",
    "            prime_num_list.append(i)\n",
    "        time.sleep(1)\n",
    "        print(prime_num_list)\n"
   ]
  },
  {
   "cell_type": "code",
   "execution_count": 88,
   "id": "8f4a280a",
   "metadata": {},
   "outputs": [
    {
     "name": "stdout",
     "output_type": "stream",
     "text": [
      "[1]\n",
      "[1, 2]\n",
      "[1, 2, 3]\n",
      "[1, 2, 3]\n",
      "[1, 2, 3, 5]\n"
     ]
    }
   ],
   "source": [
    "prime_num_range(1,5)"
   ]
  },
  {
   "cell_type": "markdown",
   "id": "49c0309b",
   "metadata": {},
   "source": [
    "___\n",
    "\n",
    "<p style=\"text-align: center;\"><img src=\"https://techproeducation.com/wp-content/uploads/2022/01/Calisma-Yuzeyi-1-kopya-5-1-768x126.png\" class=\"img-fluid\" alt=\"TECHPRO\"></p>\n",
    "\n",
    "___"
   ]
  }
 ],
 "metadata": {
  "kernelspec": {
   "display_name": "Python 3",
   "language": "python",
   "name": "python3"
  },
  "language_info": {
   "codemirror_mode": {
    "name": "ipython",
    "version": 3
   },
   "file_extension": ".py",
   "mimetype": "text/x-python",
   "name": "python",
   "nbconvert_exporter": "python",
   "pygments_lexer": "ipython3",
   "version": "3.11.1"
  }
 },
 "nbformat": 4,
 "nbformat_minor": 5
}
