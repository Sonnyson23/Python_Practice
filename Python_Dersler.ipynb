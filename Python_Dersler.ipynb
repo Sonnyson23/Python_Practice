{
 "cells": [
  {
   "cell_type": "markdown",
   "id": "cf3512c9",
   "metadata": {},
   "source": [
    "# Ders 1"
   ]
  },
  {
   "cell_type": "code",
   "execution_count": 5,
   "id": "b8bf8894",
   "metadata": {},
   "outputs": [
    {
     "name": "stdout",
     "output_type": "stream",
     "text": [
      "hello world\n",
      "merhaba yakın kampüs\n"
     ]
    }
   ],
   "source": [
    "print('hello world')\n",
    "print('merhaba yakın kampüs')"
   ]
  },
  {
   "cell_type": "code",
   "execution_count": 18,
   "id": "414457b3",
   "metadata": {
    "scrolled": true
   },
   "outputs": [
    {
     "name": "stdout",
     "output_type": "stream",
     "text": [
      "merhaba \n",
      "yakın \n",
      "kampüs\n",
      "merhaba \tyakın \tkampüs \tad \tsoyad\n"
     ]
    }
   ],
   "source": [
    "print('merhaba \\nyakın \\nkampüs')\n",
    "print('merhaba \\tyakın \\tkampüs \\tad \\tsoyad')"
   ]
  },
  {
   "cell_type": "code",
   "execution_count": 17,
   "id": "30b558c5",
   "metadata": {},
   "outputs": [
    {
     "name": "stdout",
     "output_type": "stream",
     "text": [
      "Benim adım Mesut\n",
      "Benim adım Mesut, yaşım 32\n",
      "Benim adım Mesut, yaşım 32\n",
      "Benim adım 32, yaşım Mesut\n",
      "Benim adım Mesut, yaşım 32\n",
      "Benim adım Mesut, yaşım 32\n"
     ]
    }
   ],
   "source": [
    "print(\"Benim adım {}\".format('Mesut'))\n",
    "print(\"Benim adım {}, yaşım {}\".format('Mesut',32))\n",
    "\n",
    "print(\"Benim adım {0}, yaşım {1}\".format('Mesut',32))\n",
    "print(\"Benim adım {1}, yaşım {0}\".format('Mesut',32))\n",
    "\n",
    "print(\"Benim adım {ad}, yaşım {yas}\".format(ad='Mesut', yas=32))\n",
    "\n",
    "print(\"Benim adım {ad}, yaşım {yas}\".format(yas=32, ad='Mesut'))"
   ]
  },
  {
   "cell_type": "markdown",
   "id": "2007a201",
   "metadata": {},
   "source": [
    "# Ders 2"
   ]
  },
  {
   "cell_type": "code",
   "execution_count": 2,
   "id": "6a8038a5",
   "metadata": {},
   "outputs": [
    {
     "name": "stdout",
     "output_type": "stream",
     "text": [
      "11\n"
     ]
    }
   ],
   "source": [
    "sayi = sayi + 1\n",
    "print(sayi)"
   ]
  },
  {
   "cell_type": "code",
   "execution_count": 3,
   "id": "a6da2594",
   "metadata": {},
   "outputs": [
    {
     "name": "stdout",
     "output_type": "stream",
     "text": [
      "10\n"
     ]
    }
   ],
   "source": [
    "sayi_ilk = 10\n",
    "print(sayi_ilk)"
   ]
  },
  {
   "cell_type": "raw",
   "id": "2c263f22",
   "metadata": {},
   "source": [
    "DEĞİŞKENLER\n",
    "Edge Case (Çalışmayan Durumlar)\n",
    "1. Sayı ile başlamaz\n",
    "2. Boşluk içermez\n",
    "3. \" 2' + - (/ gibi semboller içermez\n",
    "4. Rezerve isimler kullanılmaz\n",
    "    "
   ]
  },
  {
   "cell_type": "raw",
   "id": "df39bd07",
   "metadata": {},
   "source": [
    "## sayi = 10\n",
    "print(sayi)"
   ]
  },
  {
   "cell_type": "markdown",
   "id": "545d02be",
   "metadata": {},
   "source": [
    "### Ders 3"
   ]
  },
  {
   "cell_type": "code",
   "execution_count": 4,
   "id": "db44b0e4",
   "metadata": {},
   "outputs": [
    {
     "name": "stdout",
     "output_type": "stream",
     "text": [
      "5\n"
     ]
    }
   ],
   "source": [
    "print(5)"
   ]
  },
  {
   "cell_type": "code",
   "execution_count": 10,
   "id": "545661e6",
   "metadata": {},
   "outputs": [
    {
     "data": {
      "text/plain": [
       "2"
      ]
     },
     "execution_count": 10,
     "metadata": {},
     "output_type": "execute_result"
    }
   ],
   "source": [
    "3 + 5\n",
    "type(3)\n",
    "5%3"
   ]
  },
  {
   "cell_type": "code",
   "execution_count": 6,
   "id": "783f302c",
   "metadata": {},
   "outputs": [
    {
     "data": {
      "text/plain": [
       "int"
      ]
     },
     "execution_count": 6,
     "metadata": {},
     "output_type": "execute_result"
    }
   ],
   "source": [
    "type(3)"
   ]
  },
  {
   "cell_type": "code",
   "execution_count": 8,
   "id": "f7bdaf1c",
   "metadata": {},
   "outputs": [
    {
     "data": {
      "text/plain": [
       "2"
      ]
     },
     "execution_count": 8,
     "metadata": {},
     "output_type": "execute_result"
    }
   ],
   "source": [
    "5%3"
   ]
  },
  {
   "cell_type": "code",
   "execution_count": 11,
   "id": "e351ebfc",
   "metadata": {},
   "outputs": [
    {
     "data": {
      "text/plain": [
       "-10"
      ]
     },
     "execution_count": 11,
     "metadata": {},
     "output_type": "execute_result"
    }
   ],
   "source": [
    "3 + 2 * 5 - 23 "
   ]
  },
  {
   "cell_type": "code",
   "execution_count": 12,
   "id": "59500ba5",
   "metadata": {},
   "outputs": [
    {
     "data": {
      "text/plain": [
       "12.5"
      ]
     },
     "execution_count": 12,
     "metadata": {},
     "output_type": "execute_result"
    }
   ],
   "source": [
    "3.1 * 5 - 25 + 22.0"
   ]
  },
  {
   "cell_type": "markdown",
   "id": "e2bcf05f",
   "metadata": {},
   "source": [
    "# Ders 4"
   ]
  },
  {
   "cell_type": "code",
   "execution_count": 5,
   "id": "21702afb",
   "metadata": {},
   "outputs": [
    {
     "name": "stdout",
     "output_type": "stream",
     "text": [
      "Python\n"
     ]
    }
   ],
   "source": [
    "strvar = \"Python\"\n",
    "print(strvar)"
   ]
  },
  {
   "cell_type": "code",
   "execution_count": 6,
   "id": "38bf66fa",
   "metadata": {},
   "outputs": [
    {
     "data": {
      "text/plain": [
       "6"
      ]
     },
     "execution_count": 6,
     "metadata": {},
     "output_type": "execute_result"
    }
   ],
   "source": [
    "len(strvar)"
   ]
  },
  {
   "cell_type": "code",
   "execution_count": 7,
   "id": "5561007a",
   "metadata": {},
   "outputs": [
    {
     "data": {
      "text/plain": [
       "'h'"
      ]
     },
     "execution_count": 7,
     "metadata": {},
     "output_type": "execute_result"
    }
   ],
   "source": [
    "strvar[-3]"
   ]
  },
  {
   "cell_type": "code",
   "execution_count": 8,
   "id": "a4f57247",
   "metadata": {},
   "outputs": [
    {
     "data": {
      "text/plain": [
       "'thon'"
      ]
     },
     "execution_count": 8,
     "metadata": {},
     "output_type": "execute_result"
    }
   ],
   "source": [
    "strvar[2:]"
   ]
  },
  {
   "cell_type": "code",
   "execution_count": 9,
   "id": "94f33550",
   "metadata": {},
   "outputs": [
    {
     "data": {
      "text/plain": [
       "'thon'"
      ]
     },
     "execution_count": 9,
     "metadata": {},
     "output_type": "execute_result"
    }
   ],
   "source": [
    "strvar[2:]"
   ]
  },
  {
   "cell_type": "code",
   "execution_count": 10,
   "id": "d005a56e",
   "metadata": {},
   "outputs": [
    {
     "data": {
      "text/plain": [
       "'Pyt'"
      ]
     },
     "execution_count": 10,
     "metadata": {},
     "output_type": "execute_result"
    }
   ],
   "source": [
    "strvar[:3]"
   ]
  },
  {
   "cell_type": "code",
   "execution_count": 11,
   "id": "7ddcf5cc",
   "metadata": {},
   "outputs": [
    {
     "data": {
      "text/plain": [
       "'tho'"
      ]
     },
     "execution_count": 11,
     "metadata": {},
     "output_type": "execute_result"
    }
   ],
   "source": [
    "strvar[2:5]"
   ]
  },
  {
   "cell_type": "code",
   "execution_count": 12,
   "id": "2f82a6ce",
   "metadata": {},
   "outputs": [
    {
     "data": {
      "text/plain": [
       "'Pto'"
      ]
     },
     "execution_count": 12,
     "metadata": {},
     "output_type": "execute_result"
    }
   ],
   "source": [
    "strvar[::2]"
   ]
  },
  {
   "cell_type": "code",
   "execution_count": 13,
   "id": "07715062",
   "metadata": {},
   "outputs": [
    {
     "data": {
      "text/plain": [
       "'yh'"
      ]
     },
     "execution_count": 13,
     "metadata": {},
     "output_type": "execute_result"
    }
   ],
   "source": [
    "strvar[1:5:2]"
   ]
  },
  {
   "cell_type": "code",
   "execution_count": 14,
   "id": "6db8afc9",
   "metadata": {
    "scrolled": true
   },
   "outputs": [
    {
     "data": {
      "text/plain": [
       "'Python'"
      ]
     },
     "execution_count": 14,
     "metadata": {},
     "output_type": "execute_result"
    }
   ],
   "source": [
    "strvar = \"Python\"\n",
    "strvar"
   ]
  },
  {
   "cell_type": "code",
   "execution_count": 15,
   "id": "1e45c5a0",
   "metadata": {},
   "outputs": [
    {
     "data": {
      "text/plain": [
       "'Python ogren!'"
      ]
     },
     "execution_count": 15,
     "metadata": {},
     "output_type": "execute_result"
    }
   ],
   "source": [
    "strvar = strvar + \" ogren!\"\n",
    "strvar"
   ]
  },
  {
   "cell_type": "code",
   "execution_count": 16,
   "id": "7afd3aca",
   "metadata": {},
   "outputs": [
    {
     "data": {
      "text/plain": [
       "'Python ogren!Python ogren!Python ogren!Python ogren!Python ogren!'"
      ]
     },
     "execution_count": 16,
     "metadata": {},
     "output_type": "execute_result"
    }
   ],
   "source": [
    "strvar * 5"
   ]
  },
  {
   "cell_type": "code",
   "execution_count": 31,
   "id": "f20c40b8",
   "metadata": {},
   "outputs": [
    {
     "name": "stdout",
     "output_type": "stream",
     "text": [
      "PYTHON OGREN!\n",
      "python ogren!\n",
      "['Python', 'ogren!']\n",
      "['Pyth', 'n ', 'gren!']\n",
      "['Python ogren', '']\n",
      "['Pytho', ' ogre', '!']\n",
      "['Python o', 'ren!']\n",
      "['Pyth', 'n ogren!']\n",
      "['Pyth', 'n ', 'gren!']\n",
      "['Pyth', 'n ', 'gren!']\n",
      "<class 'str'>\n"
     ]
    }
   ],
   "source": [
    "print(strvar.upper())\n",
    "print(strvar.lower())\n",
    "print(strvar.split())\n",
    "print(strvar.split(\"o\"))\n",
    "print(strvar.split(\"!\"))\n",
    "print(strvar.split(\"n\"))\n",
    "print(strvar.split(\"g\"))\n",
    "print(strvar.split(sep=\"o\", maxsplit=1))\n",
    "print(strvar.split(sep=\"o\", maxsplit=2))\n",
    "print(strvar.split(sep=\"o\", maxsplit=-1))\n",
    "print(type(strvar))"
   ]
  },
  {
   "cell_type": "markdown",
   "id": "9158d34d",
   "metadata": {},
   "source": [
    "# Ders 5 Boolean"
   ]
  },
  {
   "cell_type": "code",
   "execution_count": 32,
   "id": "6e8ab3b0",
   "metadata": {},
   "outputs": [
    {
     "name": "stdout",
     "output_type": "stream",
     "text": [
      "True\n",
      "False\n",
      "<class 'str'>\n",
      "<class 'bool'>\n"
     ]
    }
   ],
   "source": [
    "a = True\n",
    "b = False\n",
    "print(a)\n",
    "print(b)\n",
    "c = 'True'\n",
    "print(type(c))\n",
    "print(type(a))"
   ]
  },
  {
   "cell_type": "code",
   "execution_count": 35,
   "id": "a45dba02",
   "metadata": {},
   "outputs": [
    {
     "name": "stdout",
     "output_type": "stream",
     "text": [
      "True\n",
      "False\n"
     ]
    }
   ],
   "source": [
    "yas1 = 20\n",
    "yas2 = 18\n",
    "\n",
    "print(yas1 > 18)\n",
    "print(yas1 < 18)"
   ]
  },
  {
   "cell_type": "code",
   "execution_count": 36,
   "id": "c2fc57df",
   "metadata": {},
   "outputs": [
    {
     "data": {
      "text/plain": [
       "True"
      ]
     },
     "execution_count": 36,
     "metadata": {},
     "output_type": "execute_result"
    }
   ],
   "source": [
    "yas2 == 18"
   ]
  },
  {
   "cell_type": "code",
   "execution_count": 37,
   "id": "c941b601",
   "metadata": {},
   "outputs": [
    {
     "data": {
      "text/plain": [
       "False"
      ]
     },
     "execution_count": 37,
     "metadata": {},
     "output_type": "execute_result"
    }
   ],
   "source": [
    "yas1 == 18"
   ]
  },
  {
   "cell_type": "code",
   "execution_count": 38,
   "id": "3efd7b61",
   "metadata": {},
   "outputs": [
    {
     "data": {
      "text/plain": [
       "False"
      ]
     },
     "execution_count": 38,
     "metadata": {},
     "output_type": "execute_result"
    }
   ],
   "source": [
    "yas2 != 18"
   ]
  },
  {
   "cell_type": "code",
   "execution_count": 39,
   "id": "7027b08a",
   "metadata": {},
   "outputs": [
    {
     "ename": "SyntaxError",
     "evalue": "invalid syntax (2132397631.py, line 1)",
     "output_type": "error",
     "traceback": [
      "\u001b[1;36m  File \u001b[1;32m\"C:\\Users\\adems\\AppData\\Local\\Temp\\ipykernel_924\\2132397631.py\"\u001b[1;36m, line \u001b[1;32m1\u001b[0m\n\u001b[1;33m    yas2 !> 18\u001b[0m\n\u001b[1;37m         ^\u001b[0m\n\u001b[1;31mSyntaxError\u001b[0m\u001b[1;31m:\u001b[0m invalid syntax\n"
     ]
    }
   ],
   "source": [
    "yas2 !> 18"
   ]
  },
  {
   "cell_type": "code",
   "execution_count": 42,
   "id": "1ab66d3b",
   "metadata": {},
   "outputs": [
    {
     "data": {
      "text/plain": [
       "True"
      ]
     },
     "execution_count": 42,
     "metadata": {},
     "output_type": "execute_result"
    }
   ],
   "source": [
    "not yas2 !=18"
   ]
  },
  {
   "cell_type": "code",
   "execution_count": 43,
   "id": "ca1ac01c",
   "metadata": {},
   "outputs": [
    {
     "data": {
      "text/plain": [
       "True"
      ]
     },
     "execution_count": 43,
     "metadata": {},
     "output_type": "execute_result"
    }
   ],
   "source": [
    "not yas2 > 18"
   ]
  },
  {
   "cell_type": "code",
   "execution_count": 44,
   "id": "e6733988",
   "metadata": {},
   "outputs": [
    {
     "data": {
      "text/plain": [
       "False"
      ]
     },
     "execution_count": 44,
     "metadata": {},
     "output_type": "execute_result"
    }
   ],
   "source": [
    "not yas2 == 18"
   ]
  },
  {
   "cell_type": "markdown",
   "id": "2141fe78",
   "metadata": {},
   "source": [
    "# Ders 6 kolleksiyon veri tipleri (list ve set)"
   ]
  },
  {
   "cell_type": "raw",
   "id": "94ba097c",
   "metadata": {},
   "source": [
    "[a, b , c , d , e , a]\n",
    "_______________________\n",
    " 0 | 1 | 2 | 3 | 4 | 5\n",
    " 0 |-5 |-4 |-3 |-2 |-1"
   ]
  },
  {
   "cell_type": "code",
   "execution_count": 45,
   "id": "65a5a767",
   "metadata": {},
   "outputs": [
    {
     "name": "stdout",
     "output_type": "stream",
     "text": [
      "['a', 'b', 'c', 'd', 'e', 'a']\n"
     ]
    }
   ],
   "source": [
    "liste = ['a', 'b', 'c', 'd', 'e', 'a']\n",
    "print(liste)"
   ]
  },
  {
   "cell_type": "code",
   "execution_count": 49,
   "id": "733713d8",
   "metadata": {},
   "outputs": [
    {
     "data": {
      "text/plain": [
       "['a', 'b', 'c', 'd', 'e', 'a', 'f', 'f', 3]"
      ]
     },
     "execution_count": 49,
     "metadata": {},
     "output_type": "execute_result"
    }
   ],
   "source": [
    "liste = liste + [3]\n",
    "liste"
   ]
  },
  {
   "cell_type": "code",
   "execution_count": 17,
   "id": "b36a6dd7",
   "metadata": {},
   "outputs": [
    {
     "data": {
      "text/plain": [
       "['d', 'e']"
      ]
     },
     "execution_count": 17,
     "metadata": {},
     "output_type": "execute_result"
    }
   ],
   "source": [
    "liste = ['a', 'b', 'c', 'd', 'e', 'a']\n",
    "liste[3:5]"
   ]
  },
  {
   "cell_type": "code",
   "execution_count": 20,
   "id": "66056f4a",
   "metadata": {},
   "outputs": [],
   "source": [
    "liste = ['a', 'b', 'c', 'd', 'e', 'a']\n",
    "liste.append('g')\n",
    "liste"
   ]
  },
  {
   "cell_type": "code",
   "execution_count": 19,
   "id": "481edf39",
   "metadata": {},
   "outputs": [
    {
     "data": {
      "text/plain": [
       "['a', 'b', 'c', 'd', 'e']"
      ]
     },
     "execution_count": 19,
     "metadata": {},
     "output_type": "execute_result"
    }
   ],
   "source": [
    "liste = ['a', 'b', 'c', 'd', 'e', 'a']\n",
    "liste.pop()\n",
    "liste"
   ]
  },
  {
   "cell_type": "code",
   "execution_count": 5,
   "id": "79cda5ba",
   "metadata": {},
   "outputs": [
    {
     "ename": "NameError",
     "evalue": "name 'liste' is not defined",
     "output_type": "error",
     "traceback": [
      "\u001b[1;31m---------------------------------------------------------------------------\u001b[0m",
      "\u001b[1;31mNameError\u001b[0m                                 Traceback (most recent call last)",
      "\u001b[1;32m~\\AppData\\Local\\Temp\\ipykernel_18132\\1550687898.py\u001b[0m in \u001b[0;36m<module>\u001b[1;34m\u001b[0m\n\u001b[1;32m----> 1\u001b[1;33m \u001b[0mliste\u001b[0m\u001b[1;33m\u001b[0m\u001b[1;33m\u001b[0m\u001b[0m\n\u001b[0m",
      "\u001b[1;31mNameError\u001b[0m: name 'liste' is not defined"
     ]
    }
   ],
   "source": [
    "liste"
   ]
  },
  {
   "cell_type": "code",
   "execution_count": 6,
   "id": "f1e81df0",
   "metadata": {},
   "outputs": [
    {
     "ename": "NameError",
     "evalue": "name 'liste' is not defined",
     "output_type": "error",
     "traceback": [
      "\u001b[1;31m---------------------------------------------------------------------------\u001b[0m",
      "\u001b[1;31mNameError\u001b[0m                                 Traceback (most recent call last)",
      "\u001b[1;32m~\\AppData\\Local\\Temp\\ipykernel_18132\\1005304443.py\u001b[0m in \u001b[0;36m<module>\u001b[1;34m\u001b[0m\n\u001b[1;32m----> 1\u001b[1;33m \u001b[0mliste\u001b[0m\u001b[1;33m.\u001b[0m\u001b[0mpop\u001b[0m\u001b[1;33m(\u001b[0m\u001b[1;36m5\u001b[0m\u001b[1;33m)\u001b[0m\u001b[1;33m\u001b[0m\u001b[1;33m\u001b[0m\u001b[0m\n\u001b[0m\u001b[0;32m      2\u001b[0m \u001b[0mliste\u001b[0m\u001b[1;33m\u001b[0m\u001b[1;33m\u001b[0m\u001b[0m\n",
      "\u001b[1;31mNameError\u001b[0m: name 'liste' is not defined"
     ]
    }
   ],
   "source": [
    "liste.pop(5)\n",
    "liste"
   ]
  },
  {
   "cell_type": "code",
   "execution_count": 7,
   "id": "8d425e21",
   "metadata": {},
   "outputs": [
    {
     "data": {
      "text/plain": [
       "[1, 1, 2, 123, 2431, 53536, 53664, 756548]"
      ]
     },
     "execution_count": 7,
     "metadata": {},
     "output_type": "execute_result"
    }
   ],
   "source": [
    "sayilar = [2, 123, 53536, 756548, 53664, 1, 1, 2431]\n",
    "sayilar.sort()\n",
    "sayilar"
   ]
  },
  {
   "cell_type": "code",
   "execution_count": 8,
   "id": "f33523c0",
   "metadata": {},
   "outputs": [
    {
     "name": "stdout",
     "output_type": "stream",
     "text": [
      "[756548, 53664, 53536, 2431, 123, 2, 1, 1]\n"
     ]
    }
   ],
   "source": [
    "sayilar.reverse()\n",
    "print(sayilar)"
   ]
  },
  {
   "cell_type": "code",
   "execution_count": 9,
   "id": "390bc411",
   "metadata": {},
   "outputs": [
    {
     "data": {
      "text/plain": [
       "{1, 2, 123, 2431, 53536, 53664, 756548}"
      ]
     },
     "execution_count": 9,
     "metadata": {},
     "output_type": "execute_result"
    }
   ],
   "source": [
    "set(sayilar)"
   ]
  },
  {
   "cell_type": "markdown",
   "id": "0159f189",
   "metadata": {},
   "source": [
    "# Ders 7 kolleksiyon veri tipleri (Tuple)"
   ]
  },
  {
   "cell_type": "raw",
   "id": "3031c37b",
   "metadata": {},
   "source": [
    "[a, b , c , d , e , a]\n",
    "_______________________\n",
    " 0 | 1 | 2 | 3 | 4 | 5\n",
    " 0 |-5 |-4 |-3 |-2 |-1"
   ]
  },
  {
   "cell_type": "code",
   "execution_count": 10,
   "id": "d625c686",
   "metadata": {},
   "outputs": [
    {
     "name": "stdout",
     "output_type": "stream",
     "text": [
      "['a', 'b', 'c', 'd', 'e', 'a']\n",
      "('a', 'b', 'c', 'd', 'e', 'a')\n"
     ]
    }
   ],
   "source": [
    "liste = ['a', 'b', 'c', 'd', 'e', 'a']\n",
    "print(liste)\n",
    "tup = ('a', 'b', 'c', 'd', 'e', 'a')\n",
    "print(tup)"
   ]
  },
  {
   "cell_type": "code",
   "execution_count": 11,
   "id": "1a0690e8",
   "metadata": {},
   "outputs": [
    {
     "data": {
      "text/plain": [
       "[12323, 'b', 'c', 'd', 'e', 'a']"
      ]
     },
     "execution_count": 11,
     "metadata": {},
     "output_type": "execute_result"
    }
   ],
   "source": [
    "liste[0] = 12323\n",
    "liste"
   ]
  },
  {
   "cell_type": "code",
   "execution_count": 12,
   "id": "6b2b0be6",
   "metadata": {},
   "outputs": [
    {
     "data": {
      "text/plain": [
       "0"
      ]
     },
     "execution_count": 12,
     "metadata": {},
     "output_type": "execute_result"
    }
   ],
   "source": [
    "tup.count (True)"
   ]
  },
  {
   "cell_type": "code",
   "execution_count": 13,
   "id": "1b7d82ec",
   "metadata": {},
   "outputs": [
    {
     "data": {
      "text/plain": [
       "0"
      ]
     },
     "execution_count": 13,
     "metadata": {},
     "output_type": "execute_result"
    }
   ],
   "source": [
    "tup.index('a')"
   ]
  },
  {
   "cell_type": "code",
   "execution_count": 14,
   "id": "91bde575",
   "metadata": {},
   "outputs": [
    {
     "ename": "ValueError",
     "evalue": "tuple.index(x): x not in tuple",
     "output_type": "error",
     "traceback": [
      "\u001b[1;31m---------------------------------------------------------------------------\u001b[0m",
      "\u001b[1;31mValueError\u001b[0m                                Traceback (most recent call last)",
      "\u001b[1;32m~\\AppData\\Local\\Temp\\ipykernel_18132\\2996090797.py\u001b[0m in \u001b[0;36m<module>\u001b[1;34m\u001b[0m\n\u001b[1;32m----> 1\u001b[1;33m \u001b[0mtup\u001b[0m\u001b[1;33m.\u001b[0m\u001b[0mindex\u001b[0m\u001b[1;33m(\u001b[0m\u001b[1;32mTrue\u001b[0m\u001b[1;33m)\u001b[0m\u001b[1;33m\u001b[0m\u001b[1;33m\u001b[0m\u001b[0m\n\u001b[0m",
      "\u001b[1;31mValueError\u001b[0m: tuple.index(x): x not in tuple"
     ]
    }
   ],
   "source": [
    "tup.index(True)"
   ]
  },
  {
   "cell_type": "markdown",
   "id": "c0feb842",
   "metadata": {},
   "source": [
    "# Ders 8 Çok Boyutlu veri tipleri (Dictionary)"
   ]
  },
  {
   "cell_type": "code",
   "execution_count": 15,
   "id": "1f57298b",
   "metadata": {},
   "outputs": [
    {
     "data": {
      "text/plain": [
       "{'isim': 'Mesut', 'yas': 32, 'lokasyon': 'berlin'}"
      ]
     },
     "execution_count": 15,
     "metadata": {},
     "output_type": "execute_result"
    }
   ],
   "source": [
    "dict1 = {'isim': 'Mesut', 'yas': 32, 'lokasyon': 'berlin' }\n",
    "dict1"
   ]
  },
  {
   "cell_type": "code",
   "execution_count": 16,
   "id": "f00a973f",
   "metadata": {},
   "outputs": [
    {
     "data": {
      "text/plain": [
       "{'isim': 'Mesut',\n",
       " 'yas': 32,\n",
       " 'dogdugu_sehir': 'Istanbul',\n",
       " 'yasadıgı_sehir': 'berlin'}"
      ]
     },
     "execution_count": 16,
     "metadata": {},
     "output_type": "execute_result"
    }
   ],
   "source": [
    "dict2 = {\n",
    "    'isim': 'Mesut',\n",
    "    'yas': 32,\n",
    "    'dogdugu_sehir': 'Istanbul',\n",
    "    'yasadıgı_sehir': 'berlin'\n",
    "    ##'lokasyon':\n",
    "}\n",
    "dict2"
   ]
  },
  {
   "cell_type": "code",
   "execution_count": 82,
   "id": "4940dbb2",
   "metadata": {},
   "outputs": [
    {
     "data": {
      "text/plain": [
       "{'isim': 'Mesut',\n",
       " 'yas': 32,\n",
       " 'lokasyon': {'dogdugu_sehir': 'Istanbul', 'yasadıgı_sehir': 'Berlin'}}"
      ]
     },
     "execution_count": 82,
     "metadata": {},
     "output_type": "execute_result"
    }
   ],
   "source": [
    "dict3 = {\n",
    "    'isim': 'Mesut',\n",
    "    'yas': 32,\n",
    "    'lokasyon':{\n",
    "        'dogdugu_sehir': 'Istanbul',\n",
    "        'yasadıgı_sehir': 'Berlin'\n",
    "    }\n",
    "}\n",
    "dict3"
   ]
  },
  {
   "cell_type": "code",
   "execution_count": 74,
   "id": "0ff26df9",
   "metadata": {},
   "outputs": [
    {
     "data": {
      "text/plain": [
       "32"
      ]
     },
     "execution_count": 74,
     "metadata": {},
     "output_type": "execute_result"
    }
   ],
   "source": [
    "dict2['yas']"
   ]
  },
  {
   "cell_type": "code",
   "execution_count": 83,
   "id": "8e934bc2",
   "metadata": {},
   "outputs": [
    {
     "data": {
      "text/plain": [
       "'Berlin'"
      ]
     },
     "execution_count": 83,
     "metadata": {},
     "output_type": "execute_result"
    }
   ],
   "source": [
    "dict3['lokasyon']['yasadıgı_sehir']"
   ]
  },
  {
   "cell_type": "code",
   "execution_count": 78,
   "id": "cf1a038e",
   "metadata": {},
   "outputs": [
    {
     "data": {
      "text/plain": [
       "32"
      ]
     },
     "execution_count": 78,
     "metadata": {},
     "output_type": "execute_result"
    }
   ],
   "source": [
    "dict2.get('yas')"
   ]
  },
  {
   "cell_type": "code",
   "execution_count": 84,
   "id": "5df2c2d7",
   "metadata": {},
   "outputs": [
    {
     "data": {
      "text/plain": [
       "'Berlin'"
      ]
     },
     "execution_count": 84,
     "metadata": {},
     "output_type": "execute_result"
    }
   ],
   "source": [
    "dict3.get('lokasyon').get('yasadıgı_sehir')"
   ]
  },
  {
   "cell_type": "code",
   "execution_count": 87,
   "id": "90a62a3d",
   "metadata": {},
   "outputs": [
    {
     "data": {
      "text/plain": [
       "dict_keys(['isim', 'yas', 'dogdugu_sehir', 'yasadıgı_sehir'])"
      ]
     },
     "execution_count": 87,
     "metadata": {},
     "output_type": "execute_result"
    }
   ],
   "source": [
    "dict2.keys()"
   ]
  },
  {
   "cell_type": "code",
   "execution_count": 88,
   "id": "dfe12814",
   "metadata": {},
   "outputs": [
    {
     "data": {
      "text/plain": [
       "dict_items([('isim', 'Mesut'), ('yas', 32), ('lokasyon', {'dogdugu_sehir': 'Istanbul', 'yasadıgı_sehir': 'Berlin'})])"
      ]
     },
     "execution_count": 88,
     "metadata": {},
     "output_type": "execute_result"
    }
   ],
   "source": [
    "dict3.items()"
   ]
  },
  {
   "cell_type": "markdown",
   "id": "7399e788",
   "metadata": {},
   "source": []
  },
  {
   "cell_type": "markdown",
   "id": "7ceff14a",
   "metadata": {},
   "source": [
    "# Ders 9 Çok Boyutlu veri tipleri (Dictionary)"
   ]
  }
 ],
 "metadata": {
  "kernelspec": {
   "display_name": "Python 3 (ipykernel)",
   "language": "python",
   "name": "python3"
  },
  "language_info": {
   "codemirror_mode": {
    "name": "ipython",
    "version": 3
   },
   "file_extension": ".py",
   "mimetype": "text/x-python",
   "name": "python",
   "nbconvert_exporter": "python",
   "pygments_lexer": "ipython3",
   "version": "3.9.13"
  }
 },
 "nbformat": 4,
 "nbformat_minor": 5
}
